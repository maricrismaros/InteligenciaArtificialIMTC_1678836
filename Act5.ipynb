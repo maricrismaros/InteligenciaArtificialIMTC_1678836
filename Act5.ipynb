{
  "nbformat": 4,
  "nbformat_minor": 0,
  "metadata": {
    "colab": {
      "name": "Act5.ipynb",
      "provenance": [],
      "authorship_tag": "ABX9TyNibjo80UWggaURIuaKOzel",
      "include_colab_link": true
    },
    "kernelspec": {
      "name": "python3",
      "display_name": "Python 3"
    },
    "language_info": {
      "name": "python"
    }
  },
  "cells": [
    {
      "cell_type": "markdown",
      "metadata": {
        "id": "view-in-github",
        "colab_type": "text"
      },
      "source": [
        "<a href=\"https://colab.research.google.com/github/maricrismaros/InteligenciaArtificialIMTC_1678836/blob/main/Act5.ipynb\" target=\"_parent\"><img src=\"https://colab.research.google.com/assets/colab-badge.svg\" alt=\"Open In Colab\"/></a>"
      ]
    },
    {
      "cell_type": "code",
      "metadata": {
        "colab": {
          "base_uri": "https://localhost:8080/"
        },
        "id": "4c8tTcXZTJwx",
        "outputId": "e07c1a3b-0979-40b9-c074-64f6f62ba335"
      },
      "source": [
        "seconds_in_a_day = 24 * 60 * 60\n",
        "seconds_in_a_day"
      ],
      "execution_count": 1,
      "outputs": [
        {
          "output_type": "execute_result",
          "data": {
            "text/plain": [
              "86400"
            ]
          },
          "metadata": {
            "tags": []
          },
          "execution_count": 1
        }
      ]
    },
    {
      "cell_type": "code",
      "metadata": {
        "colab": {
          "base_uri": "https://localhost:8080/"
        },
        "id": "gOHGS8BtTQ6R",
        "outputId": "8f128aa6-fecc-442b-a2e2-1e41e65e2c11"
      },
      "source": [
        "seconds_in_a_week = 7 * seconds_in_a_day\n",
        "seconds_in_a_week"
      ],
      "execution_count": 2,
      "outputs": [
        {
          "output_type": "execute_result",
          "data": {
            "text/plain": [
              "604800"
            ]
          },
          "metadata": {
            "tags": []
          },
          "execution_count": 2
        }
      ]
    },
    {
      "cell_type": "code",
      "metadata": {
        "colab": {
          "base_uri": "https://localhost:8080/",
          "height": 281
        },
        "id": "V7HtaPF5TRAK",
        "outputId": "01f358fb-576a-4a9f-e3b3-123d8a609483"
      },
      "source": [
        "import numpy as np\n",
        "from matplotlib import pyplot as plt\n",
        "\n",
        "ys = 200 + np.random.randn(100)\n",
        "x = [x for x in range(len(ys))]\n",
        "\n",
        "plt.plot(x, ys, '-')\n",
        "plt.fill_between(x, ys, 195, where=(ys > 195), facecolor='g', alpha=0.6)\n",
        "\n",
        "plt.title(\"Sample Visualization\")\n",
        "plt.show()"
      ],
      "execution_count": 3,
      "outputs": [
        {
          "output_type": "display_data",
          "data": {
            "image/png": "[encoded data removed]",
            "text/plain": [
              "<Figure size 432x288 with 1 Axes>"
            ]
          },
          "metadata": {
            "tags": [],
            "needs_background": "light"
          }
        }
      ]
    },
    {
      "cell_type": "code",
      "metadata": {
        "id": "QYqQS_g8TrEu"
      },
      "source": [
        "from sklearn.model_selection import train_test_split\n",
        "from sklearn.tree import DecisionTreeClassifier  \n",
        "import numpy as np       \n",
        "import pandas as pd         \n",
        "from sklearn.metrics import accuracy_score"
      ],
      "execution_count": 22,
      "outputs": []
    },
    {
      "cell_type": "code",
      "metadata": {
        "id": "hT8XsQ7RTxFh"
      },
      "source": [
        "dataset=pd.read_csv(\"heart.csv\")"
      ],
      "execution_count": 23,
      "outputs": []
    },
    {
      "cell_type": "code",
      "metadata": {
        "colab": {
          "base_uri": "https://localhost:8080/",
          "height": 204
        },
        "id": "gjEDDeWbT0SQ",
        "outputId": "18021c81-8128-440d-e257-0f8a95e10c86"
      },
      "source": [
        "dataset.head()     "
      ],
      "execution_count": 24,
      "outputs": [
        {
          "output_type": "execute_result",
          "data": {
            "text/html": [
              "<div>\n",
              "<style scoped>\n",
              "    .dataframe tbody tr th:only-of-type {\n",
              "        vertical-align: middle;\n",
              "    }\n",
              "\n",
              "    .dataframe tbody tr th {\n",
              "        vertical-align: top;\n",
              "    }\n",
              "\n",
              "    .dataframe thead th {\n",
              "        text-align: right;\n",
              "    }\n",
              "</style>\n",
              "<table border=\"1\" class=\"dataframe\">\n",
              "  <thead>\n",
              "    <tr style=\"text-align: right;\">\n",
              "      <th></th>\n",
              "      <th>age</th>\n",
              "      <th>sex</th>\n",
              "      <th>cp</th>\n",
              "      <th>trtbps</th>\n",
              "      <th>chol</th>\n",
              "      <th>fbs</th>\n",
              "      <th>restecg</th>\n",
              "      <th>thalachh</th>\n",
              "      <th>exng</th>\n",
              "      <th>oldpeak</th>\n",
              "      <th>slp</th>\n",
              "      <th>caa</th>\n",
              "      <th>thall</th>\n",
              "      <th>output</th>\n",
              "    </tr>\n",
              "  </thead>\n",
              "  <tbody>\n",
              "    <tr>\n",
              "      <th>0</th>\n",
              "      <td>63</td>\n",
              "      <td>1</td>\n",
              "      <td>3</td>\n",
              "      <td>145</td>\n",
              "      <td>233</td>\n",
              "      <td>1</td>\n",
              "      <td>0</td>\n",
              "      <td>150</td>\n",
              "      <td>0</td>\n",
              "      <td>2.3</td>\n",
              "      <td>0</td>\n",
              "      <td>0</td>\n",
              "      <td>1</td>\n",
              "      <td>1</td>\n",
              "    </tr>\n",
              "    <tr>\n",
              "      <th>1</th>\n",
              "      <td>37</td>\n",
              "      <td>1</td>\n",
              "      <td>2</td>\n",
              "      <td>130</td>\n",
              "      <td>250</td>\n",
              "      <td>0</td>\n",
              "      <td>1</td>\n",
              "      <td>187</td>\n",
              "      <td>0</td>\n",
              "      <td>3.5</td>\n",
              "      <td>0</td>\n",
              "      <td>0</td>\n",
              "      <td>2</td>\n",
              "      <td>1</td>\n",
              "    </tr>\n",
              "    <tr>\n",
              "      <th>2</th>\n",
              "      <td>41</td>\n",
              "      <td>0</td>\n",
              "      <td>1</td>\n",
              "      <td>130</td>\n",
              "      <td>204</td>\n",
              "      <td>0</td>\n",
              "      <td>0</td>\n",
              "      <td>172</td>\n",
              "      <td>0</td>\n",
              "      <td>1.4</td>\n",
              "      <td>2</td>\n",
              "      <td>0</td>\n",
              "      <td>2</td>\n",
              "      <td>1</td>\n",
              "    </tr>\n",
              "    <tr>\n",
              "      <th>3</th>\n",
              "      <td>56</td>\n",
              "      <td>1</td>\n",
              "      <td>1</td>\n",
              "      <td>120</td>\n",
              "      <td>236</td>\n",
              "      <td>0</td>\n",
              "      <td>1</td>\n",
              "      <td>178</td>\n",
              "      <td>0</td>\n",
              "      <td>0.8</td>\n",
              "      <td>2</td>\n",
              "      <td>0</td>\n",
              "      <td>2</td>\n",
              "      <td>1</td>\n",
              "    </tr>\n",
              "    <tr>\n",
              "      <th>4</th>\n",
              "      <td>57</td>\n",
              "      <td>0</td>\n",
              "      <td>0</td>\n",
              "      <td>120</td>\n",
              "      <td>354</td>\n",
              "      <td>0</td>\n",
              "      <td>1</td>\n",
              "      <td>163</td>\n",
              "      <td>1</td>\n",
              "      <td>0.6</td>\n",
              "      <td>2</td>\n",
              "      <td>0</td>\n",
              "      <td>2</td>\n",
              "      <td>1</td>\n",
              "    </tr>\n",
              "  </tbody>\n",
              "</table>\n",
              "</div>"
            ],
            "text/plain": [
              "   age  sex  cp  trtbps  chol  fbs  ...  exng  oldpeak  slp  caa  thall  output\n",
              "0   63    1   3     145   233    1  ...     0      2.3    0    0      1       1\n",
              "1   37    1   2     130   250    0  ...     0      3.5    0    0      2       1\n",
              "2   41    0   1     130   204    0  ...     0      1.4    2    0      2       1\n",
              "3   56    1   1     120   236    0  ...     0      0.8    2    0      2       1\n",
              "4   57    0   0     120   354    0  ...     1      0.6    2    0      2       1\n",
              "\n",
              "[5 rows x 14 columns]"
            ]
          },
          "metadata": {
            "tags": []
          },
          "execution_count": 24
        }
      ]
    },
    {
      "cell_type": "code",
      "metadata": {
        "id": "H-s0h2o2T3i5"
      },
      "source": [
        "features = dataset.drop([\"output\"], axis=1)    \n",
        "X = np.array(features)            \n",
        "y = np.array(dataset[\"output\"])  "
      ],
      "execution_count": 32,
      "outputs": []
    },
    {
      "cell_type": "code",
      "metadata": {
        "id": "n3roMR3cT4gI"
      },
      "source": [
        "X_train, X_val, y_train, y_val = train_test_split(X, y, random_state=0, test_size=0.20)    # DIVISION A DATOS DE ENTRENAMIENTO  DE MANERA QUE SE ENTRENA EL ARBOL DE DECISION Y DESPUES SE UTILIZA PARA EVALUARLO SI FUE EXITOSO"
      ],
      "execution_count": 26,
      "outputs": []
    },
    {
      "cell_type": "code",
      "metadata": {
        "id": "QLv3oJ_2T8aI"
      },
      "source": [
        "tree = DecisionTreeClassifier() "
      ],
      "execution_count": 27,
      "outputs": []
    },
    {
      "cell_type": "code",
      "metadata": {
        "colab": {
          "base_uri": "https://localhost:8080/"
        },
        "id": "5g21ammUT-4I",
        "outputId": "ee9273f2-a124-4bcf-bf9a-edd930e2337a"
      },
      "source": [
        "tree.fit(X_train, y_train) "
      ],
      "execution_count": 28,
      "outputs": [
        {
          "output_type": "execute_result",
          "data": {
            "text/plain": [
              "DecisionTreeClassifier(ccp_alpha=0.0, class_weight=None, criterion='gini',\n",
              "                       max_depth=None, max_features=None, max_leaf_nodes=None,\n",
              "                       min_impurity_decrease=0.0, min_impurity_split=None,\n",
              "                       min_samples_leaf=1, min_samples_split=2,\n",
              "                       min_weight_fraction_leaf=0.0, presort='deprecated',\n",
              "                       random_state=None, splitter='best')"
            ]
          },
          "metadata": {
            "tags": []
          },
          "execution_count": 28
        }
      ]
    },
    {
      "cell_type": "code",
      "metadata": {
        "colab": {
          "base_uri": "https://localhost:8080/"
        },
        "id": "Cow6jYV3UBwa",
        "outputId": "ad651dad-2b9a-4f81-82a0-edac4dfddb65"
      },
      "source": [
        "tree.tree_.max_depth "
      ],
      "execution_count": 29,
      "outputs": [
        {
          "output_type": "execute_result",
          "data": {
            "text/plain": [
              "9"
            ]
          },
          "metadata": {
            "tags": []
          },
          "execution_count": 29
        }
      ]
    },
    {
      "cell_type": "code",
      "metadata": {
        "id": "fXLLHanJWV6-"
      },
      "source": [
        "validation_prediction = tree.predict(X_val)    \n",
        "training_prediction = tree.predict(X_train)    "
      ],
      "execution_count": 30,
      "outputs": []
    },
    {
      "cell_type": "code",
      "metadata": {
        "colab": {
          "base_uri": "https://localhost:8080/"
        },
        "id": "KcKy4rYjWZEI",
        "outputId": "83ac5b90-9eed-4bc6-87ca-ee0587ea8dd9"
      },
      "source": [
        "print('Exactitud training data: ', accuracy_score(y_true=y_train, y_pred=training_prediction))\n",
        "print('Exactitud validation data: ', accuracy_score(y_true=y_val, y_pred=validation_prediction))"
      ],
      "execution_count": 31,
      "outputs": [
        {
          "output_type": "stream",
          "text": [
            "Exactitud training data:  1.0\n",
            "Exactitud validation data:  0.7704918032786885\n"
          ],
          "name": "stdout"
        }
      ]
    },
    {
      "cell_type": "code",
      "metadata": {
        "colab": {
          "base_uri": "https://localhost:8080/"
        },
        "id": "Y7WPoQK7WcF0",
        "outputId": "27c3be0f-a6d7-4c3f-cc50-00dd6e30add4"
      },
      "source": [
        "!apt-get install graphviz"
      ],
      "execution_count": 33,
      "outputs": [
        {
          "output_type": "stream",
          "text": [
            "Reading package lists... Done\n",
            "Building dependency tree       \n",
            "Reading state information... Done\n",
            "graphviz is already the newest version (2.40.1-2).\n",
            "0 upgraded, 0 newly installed, 0 to remove and 39 not upgraded.\n"
          ],
          "name": "stdout"
        }
      ]
    },
    {
      "cell_type": "code",
      "metadata": {
        "colab": {
          "base_uri": "https://localhost:8080/"
        },
        "id": "MInlQDU4WgtA",
        "outputId": "8ec0b046-6d21-4f07-bf13-e68fae0719b6"
      },
      "source": [
        "!pip install graphviz"
      ],
      "execution_count": 34,
      "outputs": [
        {
          "output_type": "stream",
          "text": [
            "Requirement already satisfied: graphviz in /usr/local/lib/python3.7/dist-packages (0.10.1)\n"
          ],
          "name": "stdout"
        }
      ]
    },
    {
      "cell_type": "code",
      "metadata": {
        "id": "uzD_Bnz_WmAP"
      },
      "source": [
        "import graphviz \n",
        "from sklearn.tree import export_graphviz"
      ],
      "execution_count": 35,
      "outputs": []
    },
    {
      "cell_type": "code",
      "metadata": {
        "id": "W_ZWMw1GWmFR"
      },
      "source": [
        "feature_names = features.columns"
      ],
      "execution_count": 37,
      "outputs": []
    },
    {
      "cell_type": "code",
      "metadata": {
        "id": "9XsN0VB8WmIb"
      },
      "source": [
        "dot_data = export_graphviz(tree, out_file=None, \n",
        "                         feature_names=feature_names,  \n",
        "                         class_names=True,  \n",
        "                         filled=True, rounded=True,  \n",
        "                         special_characters=True)  \n",
        "graph = graphviz.Source(dot_data)"
      ],
      "execution_count": 38,
      "outputs": []
    },
    {
      "cell_type": "code",
      "metadata": {
        "id": "mbNXfxAaWmLM"
      },
      "source": [
        "graph"
      ],
      "execution_count": null,
      "outputs": []
    },
    {
      "cell_type": "code",
      "metadata": {
        "id": "KXwLu95SWmNh"
      },
      "source": [
        "tree = DecisionTreeClassifier(min_samples_leaf=10, max_depth=6, min_samples_split=50)   #modificacion de max depth"
      ],
      "execution_count": 40,
      "outputs": []
    },
    {
      "cell_type": "code",
      "metadata": {
        "colab": {
          "base_uri": "https://localhost:8080/"
        },
        "id": "RZ4F3Fd6WmQB",
        "outputId": "8eba46f7-1123-4697-ae9f-b92f2e54ece0"
      },
      "source": [
        "tree.fit(X_train, y_train)"
      ],
      "execution_count": 41,
      "outputs": [
        {
          "output_type": "execute_result",
          "data": {
            "text/plain": [
              "DecisionTreeClassifier(ccp_alpha=0.0, class_weight=None, criterion='gini',\n",
              "                       max_depth=6, max_features=None, max_leaf_nodes=None,\n",
              "                       min_impurity_decrease=0.0, min_impurity_split=None,\n",
              "                       min_samples_leaf=10, min_samples_split=50,\n",
              "                       min_weight_fraction_leaf=0.0, presort='deprecated',\n",
              "                       random_state=None, splitter='best')"
            ]
          },
          "metadata": {
            "tags": []
          },
          "execution_count": 41
        }
      ]
    },
    {
      "cell_type": "code",
      "metadata": {
        "colab": {
          "base_uri": "https://localhost:8080/"
        },
        "id": "MtrOFBiXWmSG",
        "outputId": "64968bdf-8669-40a2-9eab-085c873e45c9"
      },
      "source": [
        "print('Exactitud training data: ', accuracy_score(y_true=y_train, y_pred=training_prediction))\n",
        "print('Exactitud validation data: ', accuracy_score(y_true=y_val, y_pred=validation_prediction))"
      ],
      "execution_count": 42,
      "outputs": [
        {
          "output_type": "stream",
          "text": [
            "Exactitud training data:  1.0\n",
            "Exactitud validation data:  0.7704918032786885\n"
          ],
          "name": "stdout"
        }
      ]
    },
    {
      "cell_type": "code",
      "metadata": {
        "id": "1R6NKmkgXKAy"
      },
      "source": [
        "validation_prediction = tree.predict(X_val)\n",
        "training_prediction = tree.predict(X_train)"
      ],
      "execution_count": 43,
      "outputs": []
    },
    {
      "cell_type": "code",
      "metadata": {
        "id": "Bv7xtsLTXKc3"
      },
      "source": [
        "dot_data = export_graphviz(tree, out_file=None, \n",
        "                         feature_names=feature_names,  \n",
        "                         class_names=True,  \n",
        "                         filled=True, rounded=True,  \n",
        "                         special_characters=True)  \n",
        "graph = graphviz.Source(dot_data)"
      ],
      "execution_count": 44,
      "outputs": []
    },
    {
      "cell_type": "code",
      "metadata": {
        "colab": {
          "base_uri": "https://localhost:8080/",
          "height": 573
        },
        "id": "l8CQweebXKib",
        "outputId": "567e3b7e-f2e0-4b1e-dfae-f5e1158a204c"
      },
      "source": [
        "graph"
      ],
      "execution_count": 45,
      "outputs": [
        {
          "output_type": "execute_result",
          "data": {
            "text/plain": [
              "<graphviz.files.Source at 0x7f7e22fc7a90>"
            ],
            "image/svg+xml": "<?xml version=\"1.0\" encoding=\"UTF-8\" standalone=\"no\"?>\n<!DOCTYPE svg PUBLIC \"-//W3C//DTD SVG 1.1//EN\"\n \"http://www.w3.org/Graphics/SVG/1.1/DTD/svg11.dtd\">\n<!-- Generated by graphviz version 2.40.1 (20161225.0304)\n -->\n<!-- Title: Tree Pages: 1 -->\n<svg width=\"757pt\" height=\"414pt\"\n viewBox=\"0.00 0.00 756.50 414.00\" xmlns=\"http://www.w3.org/2000/svg\" xmlns:xlink=\"http://www.w3.org/1999/xlink\">\n<g id=\"graph0\" class=\"graph\" transform=\"scale(1 1) rotate(0) translate(4 410)\">\n<title>Tree</title>\n<polygon fill=\"#ffffff\" stroke=\"transparent\" points=\"-4,4 -4,-410 752.5,-410 752.5,4 -4,4\"/>\n<!-- 0 -->\n<g id=\"node1\" class=\"node\">\n<title>0</title>\n<path fill=\"#e1f0fb\" stroke=\"#000000\" d=\"M424.5,-406C424.5,-406 316.5,-406 316.5,-406 310.5,-406 304.5,-400 304.5,-394 304.5,-394 304.5,-340 304.5,-340 304.5,-334 310.5,-328 316.5,-328 316.5,-328 424.5,-328 424.5,-328 430.5,-328 436.5,-334 436.5,-340 436.5,-340 436.5,-394 436.5,-394 436.5,-400 430.5,-406 424.5,-406\"/>\n<text text-anchor=\"start\" x=\"344.5\" y=\"-391.8\" font-family=\"Helvetica,sans-Serif\" font-size=\"14.00\" fill=\"#000000\">cp ≤ 0.5</text>\n<text text-anchor=\"start\" x=\"332.5\" y=\"-377.8\" font-family=\"Helvetica,sans-Serif\" font-size=\"14.00\" fill=\"#000000\">gini = 0.497</text>\n<text text-anchor=\"start\" x=\"322.5\" y=\"-363.8\" font-family=\"Helvetica,sans-Serif\" font-size=\"14.00\" fill=\"#000000\">samples = 242</text>\n<text text-anchor=\"start\" x=\"312.5\" y=\"-349.8\" font-family=\"Helvetica,sans-Serif\" font-size=\"14.00\" fill=\"#000000\">value = [111, 131]</text>\n<text text-anchor=\"start\" x=\"338\" y=\"-335.8\" font-family=\"Helvetica,sans-Serif\" font-size=\"14.00\" fill=\"#000000\">class = y</text>\n<text text-anchor=\"start\" x=\"396\" y=\"-335.8\" font-family=\"Helvetica,sans-Serif\" baseline-shift=\"sub\" font-size=\"14.00\" fill=\"#000000\">1</text>\n</g>\n<!-- 1 -->\n<g id=\"node2\" class=\"node\">\n<title>1</title>\n<path fill=\"#efb287\" stroke=\"#000000\" d=\"M349.5,-292C349.5,-292 257.5,-292 257.5,-292 251.5,-292 245.5,-286 245.5,-280 245.5,-280 245.5,-226 245.5,-226 245.5,-220 251.5,-214 257.5,-214 257.5,-214 349.5,-214 349.5,-214 355.5,-214 361.5,-220 361.5,-226 361.5,-226 361.5,-280 361.5,-280 361.5,-286 355.5,-292 349.5,-292\"/>\n<text text-anchor=\"start\" x=\"273.5\" y=\"-277.8\" font-family=\"Helvetica,sans-Serif\" font-size=\"14.00\" fill=\"#000000\">caa ≤ 0.5</text>\n<text text-anchor=\"start\" x=\"265.5\" y=\"-263.8\" font-family=\"Helvetica,sans-Serif\" font-size=\"14.00\" fill=\"#000000\">gini = 0.405</text>\n<text text-anchor=\"start\" x=\"255.5\" y=\"-249.8\" font-family=\"Helvetica,sans-Serif\" font-size=\"14.00\" fill=\"#000000\">samples = 117</text>\n<text text-anchor=\"start\" x=\"253.5\" y=\"-235.8\" font-family=\"Helvetica,sans-Serif\" font-size=\"14.00\" fill=\"#000000\">value = [84, 33]</text>\n<text text-anchor=\"start\" x=\"271\" y=\"-221.8\" font-family=\"Helvetica,sans-Serif\" font-size=\"14.00\" fill=\"#000000\">class = y</text>\n<text text-anchor=\"start\" x=\"329\" y=\"-221.8\" font-family=\"Helvetica,sans-Serif\" baseline-shift=\"sub\" font-size=\"14.00\" fill=\"#000000\">0</text>\n</g>\n<!-- 0&#45;&gt;1 -->\n<g id=\"edge1\" class=\"edge\">\n<title>0&#45;&gt;1</title>\n<path fill=\"none\" stroke=\"#000000\" d=\"M347.4424,-327.7677C342.389,-319.1694 336.9834,-309.9718 331.7528,-301.072\"/>\n<polygon fill=\"#000000\" stroke=\"#000000\" points=\"334.6845,-299.1525 326.6001,-292.3046 328.6496,-302.6994 334.6845,-299.1525\"/>\n<text text-anchor=\"middle\" x=\"320.3168\" y=\"-312.8022\" font-family=\"Helvetica,sans-Serif\" font-size=\"14.00\" fill=\"#000000\">True</text>\n</g>\n<!-- 8 -->\n<g id=\"node9\" class=\"node\">\n<title>8</title>\n<path fill=\"#70b8ec\" stroke=\"#000000\" d=\"M483.5,-292C483.5,-292 391.5,-292 391.5,-292 385.5,-292 379.5,-286 379.5,-280 379.5,-280 379.5,-226 379.5,-226 379.5,-220 385.5,-214 391.5,-214 391.5,-214 483.5,-214 483.5,-214 489.5,-214 495.5,-220 495.5,-226 495.5,-226 495.5,-280 495.5,-280 495.5,-286 489.5,-292 483.5,-292\"/>\n<text text-anchor=\"start\" x=\"408\" y=\"-277.8\" font-family=\"Helvetica,sans-Serif\" font-size=\"14.00\" fill=\"#000000\">sex ≤ 0.5</text>\n<text text-anchor=\"start\" x=\"399.5\" y=\"-263.8\" font-family=\"Helvetica,sans-Serif\" font-size=\"14.00\" fill=\"#000000\">gini = 0.339</text>\n<text text-anchor=\"start\" x=\"389.5\" y=\"-249.8\" font-family=\"Helvetica,sans-Serif\" font-size=\"14.00\" fill=\"#000000\">samples = 125</text>\n<text text-anchor=\"start\" x=\"387.5\" y=\"-235.8\" font-family=\"Helvetica,sans-Serif\" font-size=\"14.00\" fill=\"#000000\">value = [27, 98]</text>\n<text text-anchor=\"start\" x=\"405\" y=\"-221.8\" font-family=\"Helvetica,sans-Serif\" font-size=\"14.00\" fill=\"#000000\">class = y</text>\n<text text-anchor=\"start\" x=\"463\" y=\"-221.8\" font-family=\"Helvetica,sans-Serif\" baseline-shift=\"sub\" font-size=\"14.00\" fill=\"#000000\">1</text>\n</g>\n<!-- 0&#45;&gt;8 -->\n<g id=\"edge8\" class=\"edge\">\n<title>0&#45;&gt;8</title>\n<path fill=\"none\" stroke=\"#000000\" d=\"M393.5576,-327.7677C398.611,-319.1694 404.0166,-309.9718 409.2472,-301.072\"/>\n<polygon fill=\"#000000\" stroke=\"#000000\" points=\"412.3504,-302.6994 414.3999,-292.3046 406.3155,-299.1525 412.3504,-302.6994\"/>\n<text text-anchor=\"middle\" x=\"420.6832\" y=\"-312.8022\" font-family=\"Helvetica,sans-Serif\" font-size=\"14.00\" fill=\"#000000\">False</text>\n</g>\n<!-- 2 -->\n<g id=\"node3\" class=\"node\">\n<title>2</title>\n<path fill=\"#d7ebfa\" stroke=\"#000000\" d=\"M222.5,-178C222.5,-178 130.5,-178 130.5,-178 124.5,-178 118.5,-172 118.5,-166 118.5,-166 118.5,-112 118.5,-112 118.5,-106 124.5,-100 130.5,-100 130.5,-100 222.5,-100 222.5,-100 228.5,-100 234.5,-106 234.5,-112 234.5,-112 234.5,-166 234.5,-166 234.5,-172 228.5,-178 222.5,-178\"/>\n<text text-anchor=\"start\" x=\"145.5\" y=\"-163.8\" font-family=\"Helvetica,sans-Serif\" font-size=\"14.00\" fill=\"#000000\">thall ≤ 2.5</text>\n<text text-anchor=\"start\" x=\"138.5\" y=\"-149.8\" font-family=\"Helvetica,sans-Serif\" font-size=\"14.00\" fill=\"#000000\">gini = 0.494</text>\n<text text-anchor=\"start\" x=\"132.5\" y=\"-135.8\" font-family=\"Helvetica,sans-Serif\" font-size=\"14.00\" fill=\"#000000\">samples = 54</text>\n<text text-anchor=\"start\" x=\"126.5\" y=\"-121.8\" font-family=\"Helvetica,sans-Serif\" font-size=\"14.00\" fill=\"#000000\">value = [24, 30]</text>\n<text text-anchor=\"start\" x=\"144\" y=\"-107.8\" font-family=\"Helvetica,sans-Serif\" font-size=\"14.00\" fill=\"#000000\">class = y</text>\n<text text-anchor=\"start\" x=\"202\" y=\"-107.8\" font-family=\"Helvetica,sans-Serif\" baseline-shift=\"sub\" font-size=\"14.00\" fill=\"#000000\">1</text>\n</g>\n<!-- 1&#45;&gt;2 -->\n<g id=\"edge2\" class=\"edge\">\n<title>1&#45;&gt;2</title>\n<path fill=\"none\" stroke=\"#000000\" d=\"M259.7938,-213.7677C249.5166,-204.5424 238.4708,-194.6273 227.8907,-185.1302\"/>\n<polygon fill=\"#000000\" stroke=\"#000000\" points=\"230.0664,-182.38 220.2868,-178.3046 225.3905,-187.5892 230.0664,-182.38\"/>\n</g>\n<!-- 5 -->\n<g id=\"node6\" class=\"node\">\n<title>5</title>\n<path fill=\"#e68743\" stroke=\"#000000\" d=\"M348,-178C348,-178 265,-178 265,-178 259,-178 253,-172 253,-166 253,-166 253,-112 253,-112 253,-106 259,-100 265,-100 265,-100 348,-100 348,-100 354,-100 360,-106 360,-112 360,-112 360,-166 360,-166 360,-172 354,-178 348,-178\"/>\n<text text-anchor=\"start\" x=\"272\" y=\"-163.8\" font-family=\"Helvetica,sans-Serif\" font-size=\"14.00\" fill=\"#000000\">age ≤ 63.5</text>\n<text text-anchor=\"start\" x=\"268.5\" y=\"-149.8\" font-family=\"Helvetica,sans-Serif\" font-size=\"14.00\" fill=\"#000000\">gini = 0.091</text>\n<text text-anchor=\"start\" x=\"262.5\" y=\"-135.8\" font-family=\"Helvetica,sans-Serif\" font-size=\"14.00\" fill=\"#000000\">samples = 63</text>\n<text text-anchor=\"start\" x=\"261\" y=\"-121.8\" font-family=\"Helvetica,sans-Serif\" font-size=\"14.00\" fill=\"#000000\">value = [60, 3]</text>\n<text text-anchor=\"start\" x=\"274\" y=\"-107.8\" font-family=\"Helvetica,sans-Serif\" font-size=\"14.00\" fill=\"#000000\">class = y</text>\n<text text-anchor=\"start\" x=\"332\" y=\"-107.8\" font-family=\"Helvetica,sans-Serif\" baseline-shift=\"sub\" font-size=\"14.00\" fill=\"#000000\">0</text>\n</g>\n<!-- 1&#45;&gt;5 -->\n<g id=\"edge5\" class=\"edge\">\n<title>1&#45;&gt;5</title>\n<path fill=\"none\" stroke=\"#000000\" d=\"M304.5324,-213.7677C304.7469,-205.6172 304.9756,-196.9283 305.1983,-188.4649\"/>\n<polygon fill=\"#000000\" stroke=\"#000000\" points=\"308.7013,-188.3933 305.4657,-178.3046 301.7037,-188.2091 308.7013,-188.3933\"/>\n</g>\n<!-- 3 -->\n<g id=\"node4\" class=\"node\">\n<title>3</title>\n<path fill=\"#78bced\" stroke=\"#000000\" d=\"M95,-64C95,-64 12,-64 12,-64 6,-64 0,-58 0,-52 0,-52 0,-12 0,-12 0,-6 6,0 12,0 12,0 95,0 95,0 101,0 107,-6 107,-12 107,-12 107,-52 107,-52 107,-58 101,-64 95,-64\"/>\n<text text-anchor=\"start\" x=\"15.5\" y=\"-49.8\" font-family=\"Helvetica,sans-Serif\" font-size=\"14.00\" fill=\"#000000\">gini = 0.367</text>\n<text text-anchor=\"start\" x=\"9.5\" y=\"-35.8\" font-family=\"Helvetica,sans-Serif\" font-size=\"14.00\" fill=\"#000000\">samples = 33</text>\n<text text-anchor=\"start\" x=\"8\" y=\"-21.8\" font-family=\"Helvetica,sans-Serif\" font-size=\"14.00\" fill=\"#000000\">value = [8, 25]</text>\n<text text-anchor=\"start\" x=\"21\" y=\"-7.8\" font-family=\"Helvetica,sans-Serif\" font-size=\"14.00\" fill=\"#000000\">class = y</text>\n<text text-anchor=\"start\" x=\"79\" y=\"-7.8\" font-family=\"Helvetica,sans-Serif\" baseline-shift=\"sub\" font-size=\"14.00\" fill=\"#000000\">1</text>\n</g>\n<!-- 2&#45;&gt;3 -->\n<g id=\"edge3\" class=\"edge\">\n<title>2&#45;&gt;3</title>\n<path fill=\"none\" stroke=\"#000000\" d=\"M131.3978,-99.7647C120.5841,-90.3577 109.0408,-80.316 98.2435,-70.9232\"/>\n<polygon fill=\"#000000\" stroke=\"#000000\" points=\"100.3763,-68.1395 90.5344,-64.2169 95.7819,-73.4209 100.3763,-68.1395\"/>\n</g>\n<!-- 4 -->\n<g id=\"node5\" class=\"node\">\n<title>4</title>\n<path fill=\"#eda877\" stroke=\"#000000\" d=\"M220,-64C220,-64 137,-64 137,-64 131,-64 125,-58 125,-52 125,-52 125,-12 125,-12 125,-6 131,0 137,0 137,0 220,0 220,0 226,0 232,-6 232,-12 232,-12 232,-52 232,-52 232,-58 226,-64 220,-64\"/>\n<text text-anchor=\"start\" x=\"140.5\" y=\"-49.8\" font-family=\"Helvetica,sans-Serif\" font-size=\"14.00\" fill=\"#000000\">gini = 0.363</text>\n<text text-anchor=\"start\" x=\"134.5\" y=\"-35.8\" font-family=\"Helvetica,sans-Serif\" font-size=\"14.00\" fill=\"#000000\">samples = 21</text>\n<text text-anchor=\"start\" x=\"133\" y=\"-21.8\" font-family=\"Helvetica,sans-Serif\" font-size=\"14.00\" fill=\"#000000\">value = [16, 5]</text>\n<text text-anchor=\"start\" x=\"146\" y=\"-7.8\" font-family=\"Helvetica,sans-Serif\" font-size=\"14.00\" fill=\"#000000\">class = y</text>\n<text text-anchor=\"start\" x=\"204\" y=\"-7.8\" font-family=\"Helvetica,sans-Serif\" baseline-shift=\"sub\" font-size=\"14.00\" fill=\"#000000\">0</text>\n</g>\n<!-- 2&#45;&gt;4 -->\n<g id=\"edge4\" class=\"edge\">\n<title>2&#45;&gt;4</title>\n<path fill=\"none\" stroke=\"#000000\" d=\"M177.2334,-99.7647C177.3887,-91.4537 177.5533,-82.6472 177.7106,-74.2305\"/>\n<polygon fill=\"#000000\" stroke=\"#000000\" points=\"181.2102,-74.2806 177.8978,-64.2169 174.2114,-74.1497 181.2102,-74.2806\"/>\n</g>\n<!-- 6 -->\n<g id=\"node7\" class=\"node\">\n<title>6</title>\n<path fill=\"#e58139\" stroke=\"#000000\" d=\"M347,-64C347,-64 264,-64 264,-64 258,-64 252,-58 252,-52 252,-52 252,-12 252,-12 252,-6 258,0 264,0 264,0 347,0 347,0 353,0 359,-6 359,-12 359,-12 359,-52 359,-52 359,-58 353,-64 347,-64\"/>\n<text text-anchor=\"start\" x=\"276\" y=\"-49.8\" font-family=\"Helvetica,sans-Serif\" font-size=\"14.00\" fill=\"#000000\">gini = 0.0</text>\n<text text-anchor=\"start\" x=\"261.5\" y=\"-35.8\" font-family=\"Helvetica,sans-Serif\" font-size=\"14.00\" fill=\"#000000\">samples = 47</text>\n<text text-anchor=\"start\" x=\"260\" y=\"-21.8\" font-family=\"Helvetica,sans-Serif\" font-size=\"14.00\" fill=\"#000000\">value = [47, 0]</text>\n<text text-anchor=\"start\" x=\"273\" y=\"-7.8\" font-family=\"Helvetica,sans-Serif\" font-size=\"14.00\" fill=\"#000000\">class = y</text>\n<text text-anchor=\"start\" x=\"331\" y=\"-7.8\" font-family=\"Helvetica,sans-Serif\" baseline-shift=\"sub\" font-size=\"14.00\" fill=\"#000000\">0</text>\n</g>\n<!-- 5&#45;&gt;6 -->\n<g id=\"edge6\" class=\"edge\">\n<title>5&#45;&gt;6</title>\n<path fill=\"none\" stroke=\"#000000\" d=\"M306.1333,-99.7647C306.0556,-91.4537 305.9733,-82.6472 305.8947,-74.2305\"/>\n<polygon fill=\"#000000\" stroke=\"#000000\" points=\"309.3945,-74.1837 305.8011,-64.2169 302.3948,-74.2492 309.3945,-74.1837\"/>\n</g>\n<!-- 7 -->\n<g id=\"node8\" class=\"node\">\n<title>7</title>\n<path fill=\"#eb9e67\" stroke=\"#000000\" d=\"M472,-64C472,-64 389,-64 389,-64 383,-64 377,-58 377,-52 377,-52 377,-12 377,-12 377,-6 383,0 389,0 389,0 472,0 472,0 478,0 484,-6 484,-12 484,-12 484,-52 484,-52 484,-58 478,-64 472,-64\"/>\n<text text-anchor=\"start\" x=\"392.5\" y=\"-49.8\" font-family=\"Helvetica,sans-Serif\" font-size=\"14.00\" fill=\"#000000\">gini = 0.305</text>\n<text text-anchor=\"start\" x=\"386.5\" y=\"-35.8\" font-family=\"Helvetica,sans-Serif\" font-size=\"14.00\" fill=\"#000000\">samples = 16</text>\n<text text-anchor=\"start\" x=\"385\" y=\"-21.8\" font-family=\"Helvetica,sans-Serif\" font-size=\"14.00\" fill=\"#000000\">value = [13, 3]</text>\n<text text-anchor=\"start\" x=\"398\" y=\"-7.8\" font-family=\"Helvetica,sans-Serif\" font-size=\"14.00\" fill=\"#000000\">class = y</text>\n<text text-anchor=\"start\" x=\"456\" y=\"-7.8\" font-family=\"Helvetica,sans-Serif\" baseline-shift=\"sub\" font-size=\"14.00\" fill=\"#000000\">0</text>\n</g>\n<!-- 5&#45;&gt;7 -->\n<g id=\"edge7\" class=\"edge\">\n<title>5&#45;&gt;7</title>\n<path fill=\"none\" stroke=\"#000000\" d=\"M351.9689,-99.7647C362.8705,-90.3577 374.5076,-80.316 385.3927,-70.9232\"/>\n<polygon fill=\"#000000\" stroke=\"#000000\" points=\"387.8801,-73.3998 393.1646,-64.2169 383.307,-68.1001 387.8801,-73.3998\"/>\n</g>\n<!-- 9 -->\n<g id=\"node10\" class=\"node\">\n<title>9</title>\n<path fill=\"#3d9fe6\" stroke=\"#000000\" d=\"M477,-171C477,-171 394,-171 394,-171 388,-171 382,-165 382,-159 382,-159 382,-119 382,-119 382,-113 388,-107 394,-107 394,-107 477,-107 477,-107 483,-107 489,-113 489,-119 489,-119 489,-159 489,-159 489,-165 483,-171 477,-171\"/>\n<text text-anchor=\"start\" x=\"397.5\" y=\"-156.8\" font-family=\"Helvetica,sans-Serif\" font-size=\"14.00\" fill=\"#000000\">gini = 0.042</text>\n<text text-anchor=\"start\" x=\"391.5\" y=\"-142.8\" font-family=\"Helvetica,sans-Serif\" font-size=\"14.00\" fill=\"#000000\">samples = 47</text>\n<text text-anchor=\"start\" x=\"390\" y=\"-128.8\" font-family=\"Helvetica,sans-Serif\" font-size=\"14.00\" fill=\"#000000\">value = [1, 46]</text>\n<text text-anchor=\"start\" x=\"403\" y=\"-114.8\" font-family=\"Helvetica,sans-Serif\" font-size=\"14.00\" fill=\"#000000\">class = y</text>\n<text text-anchor=\"start\" x=\"461\" y=\"-114.8\" font-family=\"Helvetica,sans-Serif\" baseline-shift=\"sub\" font-size=\"14.00\" fill=\"#000000\">1</text>\n</g>\n<!-- 8&#45;&gt;9 -->\n<g id=\"edge9\" class=\"edge\">\n<title>8&#45;&gt;9</title>\n<path fill=\"none\" stroke=\"#000000\" d=\"M436.8117,-213.7677C436.6287,-203.3338 436.4301,-192.0174 436.2442,-181.4215\"/>\n<polygon fill=\"#000000\" stroke=\"#000000\" points=\"439.7386,-181.0622 436.0636,-171.1252 432.7396,-181.1851 439.7386,-181.0622\"/>\n</g>\n<!-- 10 -->\n<g id=\"node11\" class=\"node\">\n<title>10</title>\n<path fill=\"#9ccef2\" stroke=\"#000000\" d=\"M611.5,-178C611.5,-178 519.5,-178 519.5,-178 513.5,-178 507.5,-172 507.5,-166 507.5,-166 507.5,-112 507.5,-112 507.5,-106 513.5,-100 519.5,-100 519.5,-100 611.5,-100 611.5,-100 617.5,-100 623.5,-106 623.5,-112 623.5,-112 623.5,-166 623.5,-166 623.5,-172 617.5,-178 611.5,-178\"/>\n<text text-anchor=\"start\" x=\"531\" y=\"-163.8\" font-family=\"Helvetica,sans-Serif\" font-size=\"14.00\" fill=\"#000000\">age ≤ 56.5</text>\n<text text-anchor=\"start\" x=\"527.5\" y=\"-149.8\" font-family=\"Helvetica,sans-Serif\" font-size=\"14.00\" fill=\"#000000\">gini = 0.444</text>\n<text text-anchor=\"start\" x=\"521.5\" y=\"-135.8\" font-family=\"Helvetica,sans-Serif\" font-size=\"14.00\" fill=\"#000000\">samples = 78</text>\n<text text-anchor=\"start\" x=\"515.5\" y=\"-121.8\" font-family=\"Helvetica,sans-Serif\" font-size=\"14.00\" fill=\"#000000\">value = [26, 52]</text>\n<text text-anchor=\"start\" x=\"533\" y=\"-107.8\" font-family=\"Helvetica,sans-Serif\" font-size=\"14.00\" fill=\"#000000\">class = y</text>\n<text text-anchor=\"start\" x=\"591\" y=\"-107.8\" font-family=\"Helvetica,sans-Serif\" baseline-shift=\"sub\" font-size=\"14.00\" fill=\"#000000\">1</text>\n</g>\n<!-- 8&#45;&gt;10 -->\n<g id=\"edge10\" class=\"edge\">\n<title>8&#45;&gt;10</title>\n<path fill=\"none\" stroke=\"#000000\" d=\"M481.5503,-213.7677C491.9085,-204.5424 503.0413,-194.6273 513.7046,-185.1302\"/>\n<polygon fill=\"#000000\" stroke=\"#000000\" points=\"516.2286,-187.5692 521.3685,-178.3046 511.573,-182.3419 516.2286,-187.5692\"/>\n</g>\n<!-- 11 -->\n<g id=\"node12\" class=\"node\">\n<title>11</title>\n<path fill=\"#66b3eb\" stroke=\"#000000\" d=\"M602,-64C602,-64 519,-64 519,-64 513,-64 507,-58 507,-52 507,-52 507,-12 507,-12 507,-6 513,0 519,0 519,0 602,0 602,0 608,0 614,-6 614,-12 614,-12 614,-52 614,-52 614,-58 608,-64 602,-64\"/>\n<text text-anchor=\"start\" x=\"531\" y=\"-49.8\" font-family=\"Helvetica,sans-Serif\" font-size=\"14.00\" fill=\"#000000\">gini = 0.3</text>\n<text text-anchor=\"start\" x=\"516.5\" y=\"-35.8\" font-family=\"Helvetica,sans-Serif\" font-size=\"14.00\" fill=\"#000000\">samples = 49</text>\n<text text-anchor=\"start\" x=\"515\" y=\"-21.8\" font-family=\"Helvetica,sans-Serif\" font-size=\"14.00\" fill=\"#000000\">value = [9, 40]</text>\n<text text-anchor=\"start\" x=\"528\" y=\"-7.8\" font-family=\"Helvetica,sans-Serif\" font-size=\"14.00\" fill=\"#000000\">class = y</text>\n<text text-anchor=\"start\" x=\"586\" y=\"-7.8\" font-family=\"Helvetica,sans-Serif\" baseline-shift=\"sub\" font-size=\"14.00\" fill=\"#000000\">1</text>\n</g>\n<!-- 10&#45;&gt;11 -->\n<g id=\"edge11\" class=\"edge\">\n<title>10&#45;&gt;11</title>\n<path fill=\"none\" stroke=\"#000000\" d=\"M563.6666,-99.7647C563.2782,-91.4537 562.8667,-82.6472 562.4734,-74.2305\"/>\n<polygon fill=\"#000000\" stroke=\"#000000\" points=\"565.9685,-74.0426 562.0055,-64.2169 558.9762,-74.3694 565.9685,-74.0426\"/>\n</g>\n<!-- 12 -->\n<g id=\"node13\" class=\"node\">\n<title>12</title>\n<path fill=\"#f7dac5\" stroke=\"#000000\" d=\"M736.5,-64C736.5,-64 644.5,-64 644.5,-64 638.5,-64 632.5,-58 632.5,-52 632.5,-52 632.5,-12 632.5,-12 632.5,-6 638.5,0 644.5,0 644.5,0 736.5,0 736.5,0 742.5,0 748.5,-6 748.5,-12 748.5,-12 748.5,-52 748.5,-52 748.5,-58 742.5,-64 736.5,-64\"/>\n<text text-anchor=\"start\" x=\"652.5\" y=\"-49.8\" font-family=\"Helvetica,sans-Serif\" font-size=\"14.00\" fill=\"#000000\">gini = 0.485</text>\n<text text-anchor=\"start\" x=\"646.5\" y=\"-35.8\" font-family=\"Helvetica,sans-Serif\" font-size=\"14.00\" fill=\"#000000\">samples = 29</text>\n<text text-anchor=\"start\" x=\"640.5\" y=\"-21.8\" font-family=\"Helvetica,sans-Serif\" font-size=\"14.00\" fill=\"#000000\">value = [17, 12]</text>\n<text text-anchor=\"start\" x=\"658\" y=\"-7.8\" font-family=\"Helvetica,sans-Serif\" font-size=\"14.00\" fill=\"#000000\">class = y</text>\n<text text-anchor=\"start\" x=\"716\" y=\"-7.8\" font-family=\"Helvetica,sans-Serif\" baseline-shift=\"sub\" font-size=\"14.00\" fill=\"#000000\">0</text>\n</g>\n<!-- 10&#45;&gt;12 -->\n<g id=\"edge12\" class=\"edge\">\n<title>10&#45;&gt;12</title>\n<path fill=\"none\" stroke=\"#000000\" d=\"M611.3356,-99.7647C622.3251,-90.3577 634.0561,-80.316 645.0289,-70.9232\"/>\n<polygon fill=\"#000000\" stroke=\"#000000\" points=\"647.5426,-73.3787 652.8635,-64.2169 642.9906,-68.0609 647.5426,-73.3787\"/>\n</g>\n</g>\n</svg>\n"
          },
          "metadata": {
            "tags": []
          },
          "execution_count": 45
        }
      ]
    }
  ]
}