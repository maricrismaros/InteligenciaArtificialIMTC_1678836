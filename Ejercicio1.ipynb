{
  "nbformat": 4,
  "nbformat_minor": 0,
  "metadata": {
    "colab": {
      "name": "Ejercicio1.ipynb",
      "provenance": [],
      "collapsed_sections": []
    },
    "kernelspec": {
      "name": "python3",
      "display_name": "Python 3"
    },
    "language_info": {
      "name": "python"
    }
  },
  "cells": [
    {
      "cell_type": "code",
      "metadata": {
        "colab": {
          "base_uri": "https://localhost:8080/"
        },
        "id": "4hdJMtxhQS1l",
        "outputId": "531a304d-7dc1-4199-847f-403f561bda36"
      },
      "source": [
        "print(\"Introduzca su nombre\")\n",
        "nombre = input()\n",
        "print(\"tu nombre  es: \" , nombre)\n",
        "print(\"introduzca tu edad\")\n",
        "edad = int (input())\n",
        "print(\"tu edad es: \", edad)\n",
        "año = (55 -edad ) + 2021\n",
        "print(año)\n",
        "año= str(año)\n",
        "print(nombre + \" tendras 55 años en el año: \" + año)\n"
      ],
      "execution_count": 10,
      "outputs": [
        {
          "output_type": "stream",
          "text": [
            "Introduzca su nombre\n",
            "Maricris \n",
            "tu nombre  es:  Maricris \n",
            "introduzca tu edad\n",
            "23\n",
            "tu edad es:  23\n",
            "2053\n",
            "Maricris  tendras 55 años en el año: 2053\n"
          ],
          "name": "stdout"
        }
      ]
    },
    {
      "cell_type": "code",
      "metadata": {
        "id": "VBkYkIRoRmpw"
      },
      "source": [
        "number=int(input(\"Introduszca un número entero:  \"))\n",
        "if number%2 == 0:\n",
        "  print(\"el numero\", number, \"es par\")\n",
        "else:\n",
        "  print(\"el numero\", number, \"es impar\")"
      ],
      "execution_count": null,
      "outputs": []
    }
  ]
}