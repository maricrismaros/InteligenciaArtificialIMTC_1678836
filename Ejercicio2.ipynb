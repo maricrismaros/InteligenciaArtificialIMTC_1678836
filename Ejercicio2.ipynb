{
  "nbformat": 4,
  "nbformat_minor": 0,
  "metadata": {
    "colab": {
      "name": "Ejercicio2.ipynb",
      "provenance": [],
      "authorship_tag": "ABX9TyMNhdWrXumWCgdfQqHb+/xo",
      "include_colab_link": true
    },
    "kernelspec": {
      "name": "python3",
      "display_name": "Python 3"
    },
    "language_info": {
      "name": "python"
    }
  },
  "cells": [
    {
      "cell_type": "markdown",
      "metadata": {
        "id": "view-in-github",
        "colab_type": "text"
      },
      "source": [
        "<a href=\"https://colab.research.google.com/github/maricrismaros/InteligenciaArtificialIMTC_1678836/blob/main/Ejercicio2.ipynb\" target=\"_parent\"><img src=\"https://colab.research.google.com/assets/colab-badge.svg\" alt=\"Open In Colab\"/></a>"
      ]
    },
    {
      "cell_type": "code",
      "metadata": {
        "colab": {
          "base_uri": "https://localhost:8080/"
        },
        "id": "ynJrhyla6_6p",
        "outputId": "f22eb8d1-7644-43bc-eb35-a858e3929542"
      },
      "source": [
        "igual, aux = 0, 0\n",
        "\n",
        "texto = input(\"Ingrese la palabra que desea evaluar: \")\n",
        "\n",
        "for ind in reversed(range(0, len(texto))):\n",
        "  if texto[ind].lower() == texto[aux].lower():\n",
        "    igual += 1\n",
        "  aux += 1\n",
        "\n",
        "if len(texto) == igual:\n",
        "  print(\"El texto es palindromo!\")\n",
        "else:\n",
        "  print(\"El texto no es palindromo!\")"
      ],
      "execution_count": 31,
      "outputs": [
        {
          "output_type": "stream",
          "text": [
            "Ingrese la palabra que desea evaluar: araña\n",
            "El texto no es palindromo!\n"
          ],
          "name": "stdout"
        }
      ]
    },
    {
      "cell_type": "code",
      "metadata": {
        "colab": {
          "base_uri": "https://localhost:8080/",
          "height": 131
        },
        "id": "C7RTI2b87T2z",
        "outputId": "2f154499-79f6-4396-800e-dae5215ae14c"
      },
      "source": [
        "a = input(\"Introduzca el valor de a: \")\n",
        "b = input(\"Introduzca el valor de b: \")\n",
        "def multiplicar(a,b):\n",
        "  return a*b\n",
        "  print(\"El resultado de la multiplicación de a*b es:\" + )\n",
        "\n",
        "def sum(a,b):\n",
        "  return a+b\n"
      ],
      "execution_count": 39,
      "outputs": [
        {
          "output_type": "error",
          "ename": "SyntaxError",
          "evalue": "ignored",
          "traceback": [
            "\u001b[0;36m  File \u001b[0;32m\"<ipython-input-39-d83dd6005098>\"\u001b[0;36m, line \u001b[0;32m5\u001b[0m\n\u001b[0;31m    print(\"El resultado de la multiplicación de a*b es:\" + return)\u001b[0m\n\u001b[0m                                                                ^\u001b[0m\n\u001b[0;31mSyntaxError\u001b[0m\u001b[0;31m:\u001b[0m invalid syntax\n"
          ]
        }
      ]
    },
    {
      "cell_type": "code",
      "metadata": {
        "id": "UFDNHyZc5Ik1"
      },
      "source": [
        ""
      ],
      "execution_count": null,
      "outputs": []
    }
  ]
}