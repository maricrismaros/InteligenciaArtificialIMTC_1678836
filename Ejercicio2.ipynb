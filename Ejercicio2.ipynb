{
  "nbformat": 4,
  "nbformat_minor": 0,
  "metadata": {
    "colab": {
      "name": "Ejercicio2.ipynb",
      "provenance": [],
      "authorship_tag": "ABX9TyNJs+NnLpBjf7tcbDGfBmeJ",
      "include_colab_link": true
    },
    "kernelspec": {
      "name": "python3",
      "display_name": "Python 3"
    },
    "language_info": {
      "name": "python"
    }
  },
  "cells": [
    {
      "cell_type": "markdown",
      "metadata": {
        "id": "view-in-github",
        "colab_type": "text"
      },
      "source": [
        "<a href=\"https://colab.research.google.com/github/maricrismaros/InteligenciaArtificialIMTC_1678836/blob/main/Ejercicio2.ipynb\" target=\"_parent\"><img src=\"https://colab.research.google.com/assets/colab-badge.svg\" alt=\"Open In Colab\"/></a>"
      ]
    },
    {
      "cell_type": "code",
      "metadata": {
        "colab": {
          "base_uri": "https://localhost:8080/"
        },
        "id": "ynJrhyla6_6p",
        "outputId": "f22eb8d1-7644-43bc-eb35-a858e3929542"
      },
      "source": [
        "igual, aux = 0, 0\n",
        "\n",
        "texto = input(\"Ingrese la palabra que desea evaluar: \")\n",
        "\n",
        "for ind in reversed(range(0, len(texto))):\n",
        "  if texto[ind].lower() == texto[aux].lower():\n",
        "    igual += 1\n",
        "  aux += 1\n",
        "\n",
        "if len(texto) == igual:\n",
        "  print(\"El texto es palindromo!\")\n",
        "else:\n",
        "  print(\"El texto no es palindromo!\")"
      ],
      "execution_count": null,
      "outputs": [
        {
          "output_type": "stream",
          "text": [
            "Ingrese la palabra que desea evaluar: araña\n",
            "El texto no es palindromo!\n"
          ],
          "name": "stdout"
        }
      ]
    },
    {
      "cell_type": "code",
      "metadata": {
        "id": "lUWEZsHKFB8n"
      },
      "source": [
        "a = input(\"Introduzca el valor de a: \")\n",
        "b = input(\"Introduzca el valor de b: \")\n",
        "def multiplicar(a,b):\n",
        "  return a*b\n",
        "  print(\"El resultado de la multiplicación de a*b es:\" + )\n",
        "\n",
        "def sum(a,b):\n",
        "  return a+b"
      ],
      "execution_count": null,
      "outputs": []
    },
    {
      "cell_type": "code",
      "metadata": {
        "id": "UFDNHyZc5Ik1",
        "colab": {
          "base_uri": "https://localhost:8080/"
        },
        "outputId": "81c017a4-153d-4916-8d21-4a707e784693"
      },
      "source": [
        "Lista=[]\n",
        "\n",
        "\n",
        "def reccorrido():\n",
        "  i =\"y\"\n",
        "  while (i==\"y\"):\n",
        "      Lista.append(int(input('agregar elementos a la lista ')))\n",
        "      i=input('Seguir = y, salir = n')\n",
        "def GetElements():\n",
        "    primer=Lista[0]\n",
        "    numultimo=int(len(Lista)-1)\n",
        "    ultimo =Lista[numultimo]\t\n",
        "    primernumero = str(primer)\n",
        "    ultimo=str(ultimo)\n",
        "    print(Lista)\n",
        "    print(primernumero)\n",
        "    print(ultimo)\n",
        "    if primernumero == ultimo:\n",
        "      print('True')\n",
        "    else:\n",
        "        print('false')\n",
        "\n",
        "reccorrido()\n",
        "GetElements()"
      ],
      "execution_count": 10,
      "outputs": [
        {
          "output_type": "stream",
          "text": [
            "agregar elementos a la lista 12\n",
            "Seguir = y, salir = n12\n",
            "[12]\n",
            "12\n",
            "12\n",
            "True\n"
          ],
          "name": "stdout"
        }
      ]
    }
  ]
}